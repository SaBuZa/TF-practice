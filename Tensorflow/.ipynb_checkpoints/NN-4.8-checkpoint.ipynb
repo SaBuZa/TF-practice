{
 "cells": [
  {
   "cell_type": "code",
   "execution_count": 22,
   "metadata": {},
   "outputs": [],
   "source": [
    "import tensorflow as tf\n",
    "import numpy as np\n",
    "import pandas as pd\n",
    "import matplotlib.pyplot as plt"
   ]
  },
  {
   "cell_type": "code",
   "execution_count": 23,
   "metadata": {},
   "outputs": [],
   "source": [
    "MY_BOUNDED_SET = 4\n",
    "\n",
    "num_input = 3\n",
    "num_output = 3\n",
    "\n",
    "num_hidden1 = 16\n",
    "num_hidden2 = 16\n",
    "\n",
    "N_EPOCHS = 10000\n",
    "epoch = 0\n",
    "train_rmse_list = []\n",
    "test_rmse_list = []\n",
    "\n",
    "session = tf.Session()"
   ]
  },
  {
   "cell_type": "code",
   "execution_count": 24,
   "metadata": {},
   "outputs": [],
   "source": [
    "x = tf.placeholder(tf.float32, shape=[None, num_input])\n",
    "\n",
    "y_true = tf.placeholder(tf.float32, shape=[None, num_output], name='y_true')\n",
    "y_pred = tf.placeholder(tf.float32, shape=[None, num_output])"
   ]
  },
  {
   "cell_type": "code",
   "execution_count": 25,
   "metadata": {},
   "outputs": [],
   "source": [
    "data_csv = pd.read_csv('../myCSVData.csv')\n",
    "X = data_csv[['in1','in2','in3']]\n",
    "y = data_csv[['out1','out2','out3']]\n",
    "#X, y"
   ]
  },
  {
   "cell_type": "code",
   "execution_count": 26,
   "metadata": {},
   "outputs": [
    {
     "name": "stdout",
     "output_type": "stream",
     "text": [
      "(4, 3) (4, 3) (0, 3) (0, 3)\n"
     ]
    }
   ],
   "source": [
    "X_train_pd = X[:MY_BOUNDED_SET]\n",
    "X_test_pd = X[MY_BOUNDED_SET:]\n",
    "y_train_pd = y[:MY_BOUNDED_SET]\n",
    "y_test_pd = y[MY_BOUNDED_SET:]\n",
    "\n",
    "X_train = X_train_pd.values\n",
    "X_train = X_train.astype(np.float32)\n",
    "\n",
    "y_train = y_train_pd.values\n",
    "y_train = y_train.astype(np.float32)\n",
    "\n",
    "X_test = X_test_pd.values\n",
    "X_test = X_test.astype(np.float32)\n",
    "\n",
    "y_test = y_test_pd.values\n",
    "y_test = y_test.astype(np.float32)\n",
    "\n",
    "print (X_train.shape, y_train.shape,X_test.shape,y_test.shape)"
   ]
  },
  {
   "cell_type": "code",
   "execution_count": 27,
   "metadata": {},
   "outputs": [],
   "source": [
    "# Evaluation\n",
    "#rmse_a = tf.placeholder(tf.float32, [None, 3])\n",
    "#rmse_b = tf.placeholder(tf.float32, [None, 3])\n",
    "#rmse = tf.reduce_mean(tf.square(rmse_a - rmse_b))\n",
    "rmse_a = []\n",
    "pred_list = []"
   ]
  },
  {
   "cell_type": "code",
   "execution_count": 28,
   "metadata": {},
   "outputs": [],
   "source": [
    "def cost_func(layer, my_y_true):\n",
    "    ret = tf.sqrt(tf.reduce_mean(tf.square(layer - my_y_true)))\n",
    "    #print (layer , my_y_true)\n",
    "    #ret = tf.reduce_mean(tf.square(layer))\n",
    "    return ret\n",
    "            "
   ]
  },
  {
   "cell_type": "code",
   "execution_count": null,
   "metadata": {},
   "outputs": [],
   "source": []
  },
  {
   "cell_type": "code",
   "execution_count": null,
   "metadata": {},
   "outputs": [],
   "source": []
  },
  {
   "cell_type": "code",
   "execution_count": 29,
   "metadata": {},
   "outputs": [
    {
     "data": {
      "text/plain": [
       "array([[0.0827067, 0.740974 , 0.36644  ],\n",
       "       [0.0827297, 0.740762 , 0.365998 ],\n",
       "       [0.082753 , 0.74055  , 0.365552 ],\n",
       "       [0.082776 , 0.740335 , 0.365109 ]], dtype=float32)"
      ]
     },
     "execution_count": 29,
     "metadata": {},
     "output_type": "execute_result"
    }
   ],
   "source": [
    "X_train"
   ]
  },
  {
   "cell_type": "code",
   "execution_count": 30,
   "metadata": {},
   "outputs": [],
   "source": [
    "# Neural Network Structure\n",
    "inputs = X_train\n",
    "\n",
    "# Input Layer\n",
    "input_layer = tf.Variable(inputs)\n",
    "\n",
    "# Hidden Layer #1\n",
    "h1 = tf.layers.dense(inputs=input_layer, \n",
    "                     units=num_hidden1,\n",
    "                     use_bias=True,\n",
    "                     activation=tf.nn.relu)\n",
    "   \n",
    "# Hidden Layer #2\n",
    "h2 = tf.layers.dense(inputs=h1, \n",
    "                     units=num_hidden2,\n",
    "                     use_bias=True,\n",
    "                     activation=tf.nn.relu)\n",
    "    \n",
    "# Output Layer\n",
    "output_layer = tf.layers.dense(inputs=h2, \n",
    "                     units=num_output,\n",
    "                     use_bias=True,\n",
    "                     activation=None)\n"
   ]
  },
  {
   "cell_type": "code",
   "execution_count": 31,
   "metadata": {
    "scrolled": true
   },
   "outputs": [
    {
     "data": {
      "text/plain": [
       "<tf.Tensor 'dense_6/BiasAdd:0' shape=(4, 3) dtype=float32>"
      ]
     },
     "execution_count": 31,
     "metadata": {},
     "output_type": "execute_result"
    }
   ],
   "source": [
    "cost = cost_func(output_layer,y_true)\n",
    "output_layer"
   ]
  },
  {
   "cell_type": "code",
   "execution_count": 32,
   "metadata": {},
   "outputs": [],
   "source": [
    "optimizer = tf.train.AdamOptimizer(learning_rate=1e-5).minimize(cost)"
   ]
  },
  {
   "cell_type": "code",
   "execution_count": null,
   "metadata": {},
   "outputs": [],
   "source": []
  },
  {
   "cell_type": "code",
   "execution_count": null,
   "metadata": {},
   "outputs": [],
   "source": [
    "session.run(tf.global_variables_initializer())"
   ]
  },
  {
   "cell_type": "code",
   "execution_count": null,
   "metadata": {},
   "outputs": [],
   "source": [
    "#print (session.run(tf.subtract(output_layer,y_true)).shape)\n",
    "#print (X_train.shape)"
   ]
  },
  {
   "cell_type": "code",
   "execution_count": null,
   "metadata": {},
   "outputs": [],
   "source": [
    "print (y_true.shape)"
   ]
  },
  {
   "cell_type": "code",
   "execution_count": null,
   "metadata": {},
   "outputs": [],
   "source": [
    "def train(N_EPOCHS):\n",
    "    #global epoch\n",
    "    global rmse_a\n",
    "    global pred_list\n",
    "    #global pred1,pred2,pred3\n",
    "    for i in range(epoch, epoch + N_EPOCHS):\n",
    "        feed_dict_train = {x: X_train,\n",
    "                      y_true:X_train}\n",
    "\n",
    "        \n",
    "        session.run(optimizer, feed_dict=feed_dict_train)\n",
    "        #epoch+=1\n",
    "        cost_error = session.run(cost,feed_dict=feed_dict_train)\n",
    "        #print (\"[\" +str(i+1) +\"]\")\n",
    "        #print (\"Train Accuracy : \" , cost_error)\n",
    "        \n",
    "        rmse_a += [cost_error]\n",
    "        pred_list += [session.run(output_layer,feed_dict=feed_dict_train)]"
   ]
  },
  {
   "cell_type": "code",
   "execution_count": null,
   "metadata": {},
   "outputs": [],
   "source": [
    "def predict():\n",
    "    session.run(tf.global_variables_initializer())\n",
    "    feed_dict_test = {x: X_test,\n",
    "                    y_true:y_test}\n",
    "    print (\"Test Accuracy : \" , session.run(cost,feed_dict=feed_dict_test))"
   ]
  },
  {
   "cell_type": "code",
   "execution_count": null,
   "metadata": {},
   "outputs": [],
   "source": [
    "train(N_EPOCHS)\n",
    "#predict()\n",
    "#output_layer"
   ]
  },
  {
   "cell_type": "code",
   "execution_count": null,
   "metadata": {},
   "outputs": [],
   "source": [
    "#session.run(optimizer, feed_dict=feed_dict_train)"
   ]
  },
  {
   "cell_type": "code",
   "execution_count": 18,
   "metadata": {},
   "outputs": [],
   "source": [
    "#print (session.run(output_layer))"
   ]
  },
  {
   "cell_type": "code",
   "execution_count": 19,
   "metadata": {},
   "outputs": [],
   "source": [
    "#print (session.run(cost))"
   ]
  },
  {
   "cell_type": "code",
   "execution_count": 20,
   "metadata": {},
   "outputs": [],
   "source": [
    "#print (rmse_a)"
   ]
  },
  {
   "cell_type": "code",
   "execution_count": 21,
   "metadata": {},
   "outputs": [
    {
     "data": {
      "text/plain": [
       "[<matplotlib.lines.Line2D at 0x17de1f86e80>]"
      ]
     },
     "execution_count": 21,
     "metadata": {},
     "output_type": "execute_result"
    },
    {
     "data": {
      "image/png": "[encoded data removed]",
      "text/plain": [
       "<matplotlib.figure.Figure at 0x17de1c5da20>"
      ]
     },
     "metadata": {},
     "output_type": "display_data"
    }
   ],
   "source": [
    "plt.plot(list(enumerate(range(len(rmse_a)))),rmse_a)"
   ]
  },
  {
   "cell_type": "code",
   "execution_count": 32,
   "metadata": {},
   "outputs": [],
   "source": [
    "#list(enumerate(range(10)))"
   ]
  },
  {
   "cell_type": "code",
   "execution_count": 33,
   "metadata": {},
   "outputs": [],
   "source": [
    "#print (rmse_a)"
   ]
  },
  {
   "cell_type": "code",
   "execution_count": 34,
   "metadata": {},
   "outputs": [
    {
     "name": "stdout",
     "output_type": "stream",
     "text": [
      "7.4319764e-06\n"
     ]
    }
   ],
   "source": [
    "print (rmse_a[-1])"
   ]
  },
  {
   "cell_type": "code",
   "execution_count": 35,
   "metadata": {},
   "outputs": [
    {
     "name": "stdout",
     "output_type": "stream",
     "text": [
      "[[0.0827124  0.740974   0.36645156]\n",
      " [0.0827354  0.740762   0.3660095 ]\n",
      " [0.08275872 0.74055004 0.36556354]\n",
      " [0.08278169 0.740335   0.36512056]]\n"
     ]
    }
   ],
   "source": [
    "print (pred_list[-1])"
   ]
  },
  {
   "cell_type": "code",
   "execution_count": null,
   "metadata": {},
   "outputs": [],
   "source": []
  },
  {
   "cell_type": "code",
   "execution_count": null,
   "metadata": {},
   "outputs": [],
   "source": []
  }
 ],
 "metadata": {
  "kernelspec": {
   "display_name": "Python 3",
   "language": "python",
   "name": "python3"
  },
  "language_info": {
   "codemirror_mode": {
    "name": "ipython",
    "version": 3
   },
   "file_extension": ".py",
   "mimetype": "text/x-python",
   "name": "python",
   "nbconvert_exporter": "python",
   "pygments_lexer": "ipython3",
   "version": "3.6.4"
  }
 },
 "nbformat": 4,
 "nbformat_minor": 2
}
