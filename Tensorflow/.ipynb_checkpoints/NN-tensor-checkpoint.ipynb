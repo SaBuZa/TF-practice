{
 "cells": [
  {
   "cell_type": "code",
   "execution_count": 150,
   "metadata": {},
   "outputs": [],
   "source": [
    "import tensorflow as tf\n",
    "import numpy as np\n",
    "import pandas as pd\n",
    "import matplotlib.pyplot as plt"
   ]
  },
  {
   "cell_type": "code",
   "execution_count": 151,
   "metadata": {},
   "outputs": [],
   "source": [
    "N_EPOCHS = 1000\n",
    "rmse_list = []"
   ]
  },
  {
   "cell_type": "code",
   "execution_count": 152,
   "metadata": {},
   "outputs": [],
   "source": [
    "x = tf.placeholder(tf.float32, [None,3])\n",
    "w = tf.Variable(tf.random_normal([3,3]))\n",
    "b = tf.Variable(tf.zeros([1]))"
   ]
  },
  {
   "cell_type": "code",
   "execution_count": 153,
   "metadata": {},
   "outputs": [],
   "source": [
    "def fwdNode(x, w, b):\n",
    "    Input = tf.add(tf.matmul(x,w), b)\n",
    "    Output = tf.sigmoid(Input)\n",
    "    return Output"
   ]
  },
  {
   "cell_type": "code",
   "execution_count": 154,
   "metadata": {},
   "outputs": [],
   "source": [
    "#Feed\n",
    "Pred = fwdNode(x, w, b)"
   ]
  },
  {
   "cell_type": "code",
   "execution_count": null,
   "metadata": {},
   "outputs": [],
   "source": []
  },
  {
   "cell_type": "code",
   "execution_count": 155,
   "metadata": {
    "scrolled": true
   },
   "outputs": [],
   "source": [
    "Out = tf.placeholder(tf.float32, [None,3])\n",
    "cost_func = tf.reduce_mean(tf.square(Out - Pred))\n",
    "train_step = tf.train.GradientDescentOptimizer(0.05).minimize(cost_func)"
   ]
  },
  {
   "cell_type": "code",
   "execution_count": null,
   "metadata": {},
   "outputs": [],
   "source": []
  },
  {
   "cell_type": "code",
   "execution_count": 156,
   "metadata": {},
   "outputs": [],
   "source": [
    "data_csv = pd.read_csv('../myCSVData.csv')\n",
    "X = data_csv[['in1','in2','in3']]\n",
    "y = data_csv[['out1','out2','out3']]\n",
    "#X, y"
   ]
  },
  {
   "cell_type": "code",
   "execution_count": 157,
   "metadata": {},
   "outputs": [],
   "source": [
    "X_train = X[:40000]\n",
    "X_test = X[40000:]\n",
    "y_train = y[:40000]\n",
    "y_test = y[40000:]"
   ]
  },
  {
   "cell_type": "code",
   "execution_count": 158,
   "metadata": {},
   "outputs": [],
   "source": [
    "# Evaluation\n",
    "rmse_a = tf.placeholder(tf.float32, [None, 3])\n",
    "rmse_b = tf.placeholder(tf.float32, [None, 3])\n",
    "rmse = tf.reduce_mean(tf.square(a - b))"
   ]
  },
  {
   "cell_type": "code",
   "execution_count": 159,
   "metadata": {},
   "outputs": [],
   "source": [
    "init = tf.global_variables_initializer()"
   ]
  },
  {
   "cell_type": "code",
   "execution_count": 160,
   "metadata": {},
   "outputs": [],
   "source": [
    "with tf.Session() as sess:\n",
    "    \n",
    "    sess.run(init)\n",
    "    #print (sess.run(rmse_a))\n",
    "    for epoch in range(N_EPOCHS):\n",
    "        #print (epoch + 1)\n",
    "        sess.run(train_step, feed_dict = {x:X_train, Out:y_train})\n",
    "       # print (sess.run(cost_func, feed_dict ))\n",
    "        pred = sess.run(Pred, feed_dict = {x:X_test})\n",
    "        my_rmse = sess.run(cost_func, feed_dict={x: X_test, Out:y_test})\n",
    "        #print (\"\\nEpoch : \", (epoch+1), \"\\nRMSE : \", my_rmse)\n",
    "        #print (pred)\n",
    "        #print (sess.run(rmse, feed_dict = {rmse_a:X_test, rmse_b:y_test}))\n",
    "        rmse_list += [my_rmse]"
   ]
  },
  {
   "cell_type": "code",
   "execution_count": 161,
   "metadata": {},
   "outputs": [
    {
     "data": {
      "text/plain": [
       "[<matplotlib.lines.Line2D at 0x7fd4409dd048>,\n",
       " <matplotlib.lines.Line2D at 0x7fd4409dd208>]"
      ]
     },
     "execution_count": 161,
     "metadata": {},
     "output_type": "execute_result"
    },
    {
     "data": {
      "image/png": "[encoded data removed]",
      "text/plain": [
       "<matplotlib.figure.Figure at 0x7fd440a74eb8>"
      ]
     },
     "metadata": {},
     "output_type": "display_data"
    }
   ],
   "source": [
    "#rmse_list\n",
    "plt.plot(list(enumerate(range(len(rmse_list)))),rmse_list)\n",
    "#what"
   ]
  }
 ],
 "metadata": {
  "kernelspec": {
   "display_name": "Python 3",
   "language": "python",
   "name": "python3"
  },
  "language_info": {
   "codemirror_mode": {
    "name": "ipython",
    "version": 3
   },
   "file_extension": ".py",
   "mimetype": "text/x-python",
   "name": "python",
   "nbconvert_exporter": "python",
   "pygments_lexer": "ipython3",
   "version": "3.6.3"
  }
 },
 "nbformat": 4,
 "nbformat_minor": 2
}
