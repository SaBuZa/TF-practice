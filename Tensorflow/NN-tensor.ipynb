{
 "cells": [
  {
   "cell_type": "code",
   "execution_count": 1,
   "metadata": {},
   "outputs": [],
   "source": [
    "import tensorflow as tf\n",
    "import numpy as np\n",
    "import pandas as pd\n",
    "import matplotlib.pyplot as plt"
   ]
  },
  {
   "cell_type": "code",
   "execution_count": 2,
   "metadata": {},
   "outputs": [],
   "source": [
    "MY_BOUNDED_SET = 45000\n",
    "\n",
    "N_EPOCHS = 100\n",
    "train_rmse_list = []\n",
    "test_rmse_list = []"
   ]
  },
  {
   "cell_type": "code",
   "execution_count": 3,
   "metadata": {},
   "outputs": [],
   "source": [
    "x = tf.placeholder(tf.float32, [None,3])\n",
    "w = tf.Variable(tf.random_normal([3,3]))\n",
    "b = tf.Variable(tf.zeros([1]))"
   ]
  },
  {
   "cell_type": "code",
   "execution_count": 4,
   "metadata": {},
   "outputs": [],
   "source": [
    "def fwdNode(x, w, b):\n",
    "    Input = tf.add(tf.matmul(x,w), b)\n",
    "    Output = tf.nn.relu(Input)\n",
    "    return Output"
   ]
  },
  {
   "cell_type": "code",
   "execution_count": 5,
   "metadata": {},
   "outputs": [],
   "source": [
    "#Feed\n",
    "Pred = fwdNode(x, w, b)"
   ]
  },
  {
   "cell_type": "code",
   "execution_count": null,
   "metadata": {},
   "outputs": [],
   "source": []
  },
  {
   "cell_type": "code",
   "execution_count": 6,
   "metadata": {
    "scrolled": true
   },
   "outputs": [],
   "source": [
    "L1 = tf.placeholder(tf.float32, [None,3])\n",
    "Out = tf.placeholder(tf.float32, [None,3])\n",
    "cost_func = tf.reduce_mean(tf.square(Out - Pred))\n",
    "#train_step = tf.train.GradientDescentOptimizer(0.05).minimize(cost_func)\n",
    "train_step = tf.train.GradientDescentOptimizer(0.05).minimize(cost_func)"
   ]
  },
  {
   "cell_type": "code",
   "execution_count": null,
   "metadata": {},
   "outputs": [],
   "source": []
  },
  {
   "cell_type": "code",
   "execution_count": 7,
   "metadata": {},
   "outputs": [],
   "source": [
    "data_csv = pd.read_csv('../myCSVData.csv')\n",
    "X = data_csv[['in1','in2','in3']]\n",
    "y = data_csv[['out1','out2','out3']]\n",
    "#X, y"
   ]
  },
  {
   "cell_type": "code",
   "execution_count": 8,
   "metadata": {},
   "outputs": [],
   "source": [
    "X_train = X[:MY_BOUNDED_SET]\n",
    "X_test = X[MY_BOUNDED_SET:]\n",
    "y_train = y[:MY_BOUNDED_SET]\n",
    "y_test = y[MY_BOUNDED_SET:]"
   ]
  },
  {
   "cell_type": "code",
   "execution_count": 9,
   "metadata": {},
   "outputs": [],
   "source": [
    "# Evaluation\n",
    "rmse_a = tf.placeholder(tf.float32, [None, 3])\n",
    "rmse_b = tf.placeholder(tf.float32, [None, 3])\n",
    "rmse = tf.reduce_mean(tf.square(rmse_a - rmse_b))"
   ]
  },
  {
   "cell_type": "code",
   "execution_count": 10,
   "metadata": {},
   "outputs": [],
   "source": [
    "init = tf.global_variables_initializer()"
   ]
  },
  {
   "cell_type": "code",
   "execution_count": 11,
   "metadata": {},
   "outputs": [],
   "source": [
    "with tf.Session() as sess:\n",
    "    \n",
    "    sess.run(init)\n",
    "    #print (sess.run(rmse_a))\n",
    "    for epoch in range(N_EPOCHS):\n",
    "        #print (epoch + 1)\n",
    "        sess.run(train_step, feed_dict = {x:X_train, Out:y_train})\n",
    "        train_pred = sess.run(Pred, feed_dict = {x:X_train})\n",
    "        train_rmse = sess.run(cost_func, feed_dict={x: X_train, Out:y_train})\n",
    "        train_rmse_list += [train_rmse]\n",
    "       # print (sess.run(cost_func, feed_dict ))\n",
    "        pred = sess.run(Pred, feed_dict = {x:X_test})\n",
    "        test_rmse = sess.run(cost_func, feed_dict={x: X_test, Out:y_test})\n",
    "        #print (\"\\nEpoch : \", (epoch+1), \"\\nRMSE : \", my_rmse)\n",
    "        #print (pred)\n",
    "        #print (sess.run(rmse, feed_dict = {rmse_a:X_test, rmse_b:y_test}))\n",
    "        test_rmse_list += [test_rmse]"
   ]
  },
  {
   "cell_type": "code",
   "execution_count": 12,
   "metadata": {},
   "outputs": [
    {
     "data": {
      "text/plain": [
       "[<matplotlib.lines.Line2D at 0x7f52b8d1af98>,\n",
       " <matplotlib.lines.Line2D at 0x7f52b8d28240>]"
      ]
     },
     "execution_count": 12,
     "metadata": {},
     "output_type": "execute_result"
    },
    {
     "data": {
      "image/png": "[encoded data removed]",
      "text/plain": [
       "<matplotlib.figure.Figure at 0x7f52ba20dbe0>"
      ]
     },
     "metadata": {},
     "output_type": "display_data"
    }
   ],
   "source": [
    "#TRAIN RMSE RELU\n",
    "plt.plot(list(enumerate(range(len(train_rmse_list)))),train_rmse_list)"
   ]
  },
  {
   "cell_type": "code",
   "execution_count": 13,
   "metadata": {},
   "outputs": [
    {
     "data": {
      "text/plain": [
       "[<matplotlib.lines.Line2D at 0x7f52b8cc9518>,\n",
       " <matplotlib.lines.Line2D at 0x7f52b8cc96d8>]"
      ]
     },
     "execution_count": 13,
     "metadata": {},
     "output_type": "execute_result"
    },
    {
     "data": {
      "image/png": "[encoded data removed]",
      "text/plain": [
       "<matplotlib.figure.Figure at 0x7f52b8d28e48>"
      ]
     },
     "metadata": {},
     "output_type": "display_data"
    }
   ],
   "source": [
    "#TEST RMSE RELU\n",
    "plt.plot(list(enumerate(range(len(test_rmse_list)))),test_rmse_list)\n",
    "#what"
   ]
  },
  {
   "cell_type": "code",
   "execution_count": 14,
   "metadata": {},
   "outputs": [
    {
     "data": {
      "text/plain": [
       "[0.51082385,\n",
       " 0.47245705,\n",
       " 0.4421698,\n",
       " 0.41819263,\n",
       " 0.39916116,\n",
       " 0.384021,\n",
       " 0.37194481,\n",
       " 0.3622928,\n",
       " 0.35456678,\n",
       " 0.3483704,\n",
       " 0.34339693,\n",
       " 0.33939573,\n",
       " 0.33617863,\n",
       " 0.33358443,\n",
       " 0.33149436,\n",
       " 0.3298077,\n",
       " 0.3284455,\n",
       " 0.32734415,\n",
       " 0.3264526,\n",
       " 0.32573313,\n",
       " 0.3251481,\n",
       " 0.32467487,\n",
       " 0.32428992,\n",
       " 0.32397643,\n",
       " 0.3237206,\n",
       " 0.3235115,\n",
       " 0.3233395,\n",
       " 0.3231974,\n",
       " 0.32307786,\n",
       " 0.32297626,\n",
       " 0.3228868,\n",
       " 0.3228059,\n",
       " 0.32273284,\n",
       " 0.32266676,\n",
       " 0.32260644,\n",
       " 0.32255146,\n",
       " 0.32250124,\n",
       " 0.32245544,\n",
       " 0.32241336,\n",
       " 0.3223748,\n",
       " 0.32233924,\n",
       " 0.32230657,\n",
       " 0.32227594,\n",
       " 0.32224795,\n",
       " 0.32222217,\n",
       " 0.32219833,\n",
       " 0.32217616,\n",
       " 0.32215548,\n",
       " 0.32213622,\n",
       " 0.32211822,\n",
       " 0.32210162,\n",
       " 0.32208604,\n",
       " 0.3220719,\n",
       " 0.3220583,\n",
       " 0.32204574,\n",
       " 0.32203403,\n",
       " 0.3220231,\n",
       " 0.32201284,\n",
       " 0.3220031,\n",
       " 0.32199413,\n",
       " 0.32198554,\n",
       " 0.32197782,\n",
       " 0.3219703,\n",
       " 0.3219633,\n",
       " 0.32195672,\n",
       " 0.32195067,\n",
       " 0.32194492,\n",
       " 0.32193932,\n",
       " 0.32193428,\n",
       " 0.32192934,\n",
       " 0.3219249,\n",
       " 0.32192054,\n",
       " 0.3219165,\n",
       " 0.32191274,\n",
       " 0.3219091,\n",
       " 0.32190567,\n",
       " 0.3219024,\n",
       " 0.3218994,\n",
       " 0.32189664,\n",
       " 0.32189387,\n",
       " 0.32189134,\n",
       " 0.32188895,\n",
       " 0.3218865,\n",
       " 0.32188442,\n",
       " 0.32188225,\n",
       " 0.3218803,\n",
       " 0.32187846,\n",
       " 0.32187667,\n",
       " 0.32187507,\n",
       " 0.32187337,\n",
       " 0.32187182,\n",
       " 0.32187036,\n",
       " 0.3218689,\n",
       " 0.32186764,\n",
       " 0.32186633,\n",
       " 0.3218651,\n",
       " 0.32186398,\n",
       " 0.32186285,\n",
       " 0.32186186,\n",
       " 0.32186088]"
      ]
     },
     "execution_count": 14,
     "metadata": {},
     "output_type": "execute_result"
    }
   ],
   "source": [
    "train_rmse_list"
   ]
  },
  {
   "cell_type": "code",
   "execution_count": 15,
   "metadata": {},
   "outputs": [
    {
     "data": {
      "text/plain": [
       "[0.7867978,\n",
       " 0.73244005,\n",
       " 0.6858136,\n",
       " 0.64565396,\n",
       " 0.6109255,\n",
       " 0.5807857,\n",
       " 0.55452704,\n",
       " 0.5315752,\n",
       " 0.5114488,\n",
       " 0.49374607,\n",
       " 0.47814617,\n",
       " 0.4643448,\n",
       " 0.45213073,\n",
       " 0.44127694,\n",
       " 0.4316281,\n",
       " 0.42303264,\n",
       " 0.41535455,\n",
       " 0.40848935,\n",
       " 0.40234601,\n",
       " 0.39684626,\n",
       " 0.39190078,\n",
       " 0.38746125,\n",
       " 0.3834692,\n",
       " 0.37987518,\n",
       " 0.37662753,\n",
       " 0.37369868,\n",
       " 0.37103483,\n",
       " 0.36862928,\n",
       " 0.36643374,\n",
       " 0.36442712,\n",
       " 0.3625639,\n",
       " 0.36081186,\n",
       " 0.35916188,\n",
       " 0.35760623,\n",
       " 0.35613018,\n",
       " 0.35473096,\n",
       " 0.35340714,\n",
       " 0.352151,\n",
       " 0.35095915,\n",
       " 0.34982532,\n",
       " 0.34874773,\n",
       " 0.34771824,\n",
       " 0.34673482,\n",
       " 0.3457998,\n",
       " 0.3449065,\n",
       " 0.34405407,\n",
       " 0.34323907,\n",
       " 0.34245586,\n",
       " 0.34170905,\n",
       " 0.3409917,\n",
       " 0.3403051,\n",
       " 0.3396444,\n",
       " 0.33901373,\n",
       " 0.33840585,\n",
       " 0.33782384,\n",
       " 0.3372634,\n",
       " 0.33672658,\n",
       " 0.3362099,\n",
       " 0.33571163,\n",
       " 0.33523193,\n",
       " 0.33476993,\n",
       " 0.33432704,\n",
       " 0.33389637,\n",
       " 0.33348113,\n",
       " 0.33308214,\n",
       " 0.33269826,\n",
       " 0.33232683,\n",
       " 0.33196712,\n",
       " 0.3316211,\n",
       " 0.33128497,\n",
       " 0.33096254,\n",
       " 0.3306506,\n",
       " 0.33034566,\n",
       " 0.3300535,\n",
       " 0.32977125,\n",
       " 0.32949793,\n",
       " 0.3292322,\n",
       " 0.32897505,\n",
       " 0.328726,\n",
       " 0.3284848,\n",
       " 0.32824746,\n",
       " 0.32802093,\n",
       " 0.32780161,\n",
       " 0.32758737,\n",
       " 0.32738045,\n",
       " 0.32718003,\n",
       " 0.3269846,\n",
       " 0.32679576,\n",
       " 0.3266106,\n",
       " 0.32642975,\n",
       " 0.3262558,\n",
       " 0.3260863,\n",
       " 0.3259204,\n",
       " 0.32575893,\n",
       " 0.3256014,\n",
       " 0.3254495,\n",
       " 0.3253013,\n",
       " 0.32515743,\n",
       " 0.32501704,\n",
       " 0.3248795]"
      ]
     },
     "execution_count": 15,
     "metadata": {},
     "output_type": "execute_result"
    }
   ],
   "source": [
    "test_rmse_list"
   ]
  },
  {
   "cell_type": "code",
   "execution_count": null,
   "metadata": {},
   "outputs": [],
   "source": []
  }
 ],
 "metadata": {
  "kernelspec": {
   "display_name": "Python 3",
   "language": "python",
   "name": "python3"
  },
  "language_info": {
   "codemirror_mode": {
    "name": "ipython",
    "version": 3
   },
   "file_extension": ".py",
   "mimetype": "text/x-python",
   "name": "python",
   "nbconvert_exporter": "python",
   "pygments_lexer": "ipython3",
   "version": "3.6.3"
  }
 },
 "nbformat": 4,
 "nbformat_minor": 2
}
