{
 "cells": [
  {
   "cell_type": "code",
   "execution_count": 1,
   "metadata": {},
   "outputs": [],
   "source": [
    "import tensorflow as tf\n",
    "import numpy as np\n",
    "import pandas as pd\n",
    "import matplotlib.pyplot as plt"
   ]
  },
  {
   "cell_type": "code",
   "execution_count": 16,
   "metadata": {},
   "outputs": [],
   "source": [
    "N_EPOCHS = 1000\n",
    "train_rmse_list = []\n",
    "test_rmse_list = []"
   ]
  },
  {
   "cell_type": "code",
   "execution_count": 17,
   "metadata": {},
   "outputs": [],
   "source": [
    "x = tf.placeholder(tf.float32, [None,3])\n",
    "w = tf.Variable(tf.random_normal([3,3]))\n",
    "b = tf.Variable(tf.zeros([1]))"
   ]
  },
  {
   "cell_type": "code",
   "execution_count": 18,
   "metadata": {},
   "outputs": [],
   "source": [
    "def fwdNode(x, w, b):\n",
    "    Input = tf.add(tf.matmul(x,w), b)\n",
    "    Output = tf.sigmoid(Input)\n",
    "    return Output"
   ]
  },
  {
   "cell_type": "code",
   "execution_count": 19,
   "metadata": {},
   "outputs": [],
   "source": [
    "#Feed\n",
    "Pred = fwdNode(x, w, b)"
   ]
  },
  {
   "cell_type": "code",
   "execution_count": null,
   "metadata": {},
   "outputs": [],
   "source": []
  },
  {
   "cell_type": "code",
   "execution_count": 20,
   "metadata": {
    "scrolled": true
   },
   "outputs": [],
   "source": [
    "L1 = tf.placeholder(tf.float32, [None,3])\n",
    "Out = tf.placeholder(tf.float32, [None,3])\n",
    "cost_func = tf.reduce_mean(tf.square(Out - Pred))\n",
    "train_step = tf.train.GradientDescentOptimizer(0.05).minimize(cost_func)"
   ]
  },
  {
   "cell_type": "code",
   "execution_count": null,
   "metadata": {},
   "outputs": [],
   "source": []
  },
  {
   "cell_type": "code",
   "execution_count": 21,
   "metadata": {},
   "outputs": [],
   "source": [
    "data_csv = pd.read_csv('../myCSVData.csv')\n",
    "X = data_csv[['in1','in2','in3']]\n",
    "y = data_csv[['out1','out2','out3']]\n",
    "#X, y"
   ]
  },
  {
   "cell_type": "code",
   "execution_count": 22,
   "metadata": {},
   "outputs": [],
   "source": [
    "X_train = X[:40000]\n",
    "X_test = X[40000:]\n",
    "y_train = y[:40000]\n",
    "y_test = y[40000:]"
   ]
  },
  {
   "cell_type": "code",
   "execution_count": 23,
   "metadata": {},
   "outputs": [],
   "source": [
    "# Evaluation\n",
    "rmse_a = tf.placeholder(tf.float32, [None, 3])\n",
    "rmse_b = tf.placeholder(tf.float32, [None, 3])\n",
    "rmse = tf.reduce_mean(tf.square(rmse_a - rmse_b))"
   ]
  },
  {
   "cell_type": "code",
   "execution_count": 24,
   "metadata": {},
   "outputs": [],
   "source": [
    "init = tf.global_variables_initializer()"
   ]
  },
  {
   "cell_type": "code",
   "execution_count": 27,
   "metadata": {},
   "outputs": [],
   "source": [
    "with tf.Session() as sess:\n",
    "    \n",
    "    sess.run(init)\n",
    "    #print (sess.run(rmse_a))\n",
    "    for epoch in range(N_EPOCHS):\n",
    "        #print (epoch + 1)\n",
    "        sess.run(train_step, feed_dict = {x:X_train, Out:y_train})\n",
    "        train_pred = sess.run(Pred, feed_dict = {x:X_train})\n",
    "        train_rmse = sess.run(cost_func, feed_dict={x: X_train, Out:y_train})\n",
    "        train_rmse_list += [train_rmse]\n",
    "       # print (sess.run(cost_func, feed_dict ))\n",
    "        pred = sess.run(Pred, feed_dict = {x:X_test})\n",
    "        test_rmse = sess.run(cost_func, feed_dict={x: X_test, Out:y_test})\n",
    "        #print (\"\\nEpoch : \", (epoch+1), \"\\nRMSE : \", my_rmse)\n",
    "        #print (pred)\n",
    "        #print (sess.run(rmse, feed_dict = {rmse_a:X_test, rmse_b:y_test}))\n",
    "        test_rmse_list += [test_rmse]"
   ]
  },
  {
   "cell_type": "code",
   "execution_count": 28,
   "metadata": {},
   "outputs": [
    {
     "data": {
      "text/plain": [
       "[<matplotlib.lines.Line2D at 0x7fbe60edb940>,\n",
       " <matplotlib.lines.Line2D at 0x7fbe60edbb00>]"
      ]
     },
     "execution_count": 28,
     "metadata": {},
     "output_type": "execute_result"
    },
    {
     "data": {
      "image/png": "[encoded data removed]",
      "text/plain": [
       "<matplotlib.figure.Figure at 0x7fbe60f169e8>"
      ]
     },
     "metadata": {},
     "output_type": "display_data"
    }
   ],
   "source": [
    "#TRAIN RMSE\n",
    "plt.plot(list(enumerate(range(len(train_rmse_list)))),train_rmse_list)"
   ]
  },
  {
   "cell_type": "code",
   "execution_count": 29,
   "metadata": {},
   "outputs": [
    {
     "data": {
      "text/plain": [
       "[<matplotlib.lines.Line2D at 0x7fbe60ecc2e8>,\n",
       " <matplotlib.lines.Line2D at 0x7fbe60ecc4a8>]"
      ]
     },
     "execution_count": 29,
     "metadata": {},
     "output_type": "execute_result"
    },
    {
     "data": {
      "image/png": "[encoded data removed]",
      "text/plain": [
       "<matplotlib.figure.Figure at 0x7fbe60f26e48>"
      ]
     },
     "metadata": {},
     "output_type": "display_data"
    }
   ],
   "source": [
    "#TEST RMSE\n",
    "plt.plot(list(enumerate(range(len(test_rmse_list)))),test_rmse_list)\n",
    "#what"
   ]
  },
  {
   "cell_type": "code",
   "execution_count": null,
   "metadata": {},
   "outputs": [],
   "source": []
  }
 ],
 "metadata": {
  "kernelspec": {
   "display_name": "Python 3",
   "language": "python",
   "name": "python3"
  },
  "language_info": {
   "codemirror_mode": {
    "name": "ipython",
    "version": 3
   },
   "file_extension": ".py",
   "mimetype": "text/x-python",
   "name": "python",
   "nbconvert_exporter": "python",
   "pygments_lexer": "ipython3",
   "version": "3.6.3"
  }
 },
 "nbformat": 4,
 "nbformat_minor": 2
}
