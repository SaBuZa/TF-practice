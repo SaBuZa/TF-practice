{
 "cells": [
  {
   "cell_type": "code",
   "execution_count": 1,
   "metadata": {},
   "outputs": [],
   "source": [
    "import tensorflow as tf\n",
    "import numpy as np\n",
    "import pandas as pd\n",
    "import matplotlib.pyplot as plt"
   ]
  },
  {
   "cell_type": "code",
   "execution_count": 41,
   "metadata": {},
   "outputs": [],
   "source": [
    "num_input = 3\n",
    "num_output = 3\n",
    "\n",
    "num_hidden1 = 16\n",
    "num_hidden2 = 16\n",
    "\n",
    "my_rmse_list = []"
   ]
  },
  {
   "cell_type": "code",
   "execution_count": 3,
   "metadata": {},
   "outputs": [],
   "source": [
    "\n",
    "session = tf.Session()\n",
    "\n",
    "x = tf.placeholder(tf.float32, shape=[None, num_input])\n",
    "\n",
    "y_true = tf.placeholder(tf.float32, shape=[None, num_output], name='y_true')\n",
    "y_pred = tf.placeholder(tf.float32, shape=[None, num_output])\n"
   ]
  },
  {
   "cell_type": "code",
   "execution_count": 4,
   "metadata": {},
   "outputs": [
    {
     "name": "stdout",
     "output_type": "stream",
     "text": [
      "<class 'pandas.core.frame.DataFrame'> <class 'pandas.core.frame.DataFrame'>\n"
     ]
    }
   ],
   "source": [
    "data_csv = pd.read_csv('../myCSVData.csv')\n",
    "X = data_csv[['in1','in2','in3']]\n",
    "y = data_csv[['out1','out2','out3']]\n",
    "#X, y\n",
    "print (type(X), type(y))\n",
    "#y"
   ]
  },
  {
   "cell_type": "code",
   "execution_count": 5,
   "metadata": {},
   "outputs": [],
   "source": [
    "\n",
    "X_a = X.values\n",
    "y_a = y.values"
   ]
  },
  {
   "cell_type": "code",
   "execution_count": 6,
   "metadata": {},
   "outputs": [],
   "source": [
    "\n",
    "def cost_func(layer, my_y_true):\n",
    "    ret = tf.sqrt(tf.reduce_mean(tf.square(layer - my_y_true)))\n",
    "    #print (layer , my_y_true)\n",
    "    #ret = tf.reduce_mean(tf.square(layer))\n",
    "    return ret"
   ]
  },
  {
   "cell_type": "code",
   "execution_count": 69,
   "metadata": {},
   "outputs": [],
   "source": [
    "def nn_model_fn(features, labels, mode):\n",
    "    global my_rmse_list\n",
    "    # Neural Network Structure\n",
    "    # Input Layer\n",
    "    input_layer = tf.reshape(features[\"x\"],[-1, 3]) \n",
    "    \n",
    "    # Hidden Layer #1\n",
    "    h1 = tf.layers.dense(inputs=input_layer, \n",
    "                         units=num_hidden1,\n",
    "                         use_bias=True,\n",
    "                         activation=tf.nn.relu)\n",
    "\n",
    "    # Hidden Layer #2\n",
    "    h2 = tf.layers.dense(inputs=h1, \n",
    "                         units=num_hidden2,\n",
    "                         use_bias=True,\n",
    "                         activation=tf.nn.relu)\n",
    "\n",
    "    # Output Layer\n",
    "    output_layer = tf.layers.dense(inputs=h2, \n",
    "                         units=num_output,\n",
    "                         use_bias=True,\n",
    "                         activation=None)\n",
    "    predictions = {\n",
    "        \"output\" : output_layer\n",
    "    }\n",
    "    \n",
    "    if mode == tf.estimator.ModeKeys.PREDICT:\n",
    "        return tf.estimator.EstimatorSpec(mode=mode, predictions=predictions)\n",
    "    \n",
    "    cost = cost_func(output_layer, labels)\n",
    "    \n",
    "    if mode == tf.estimator.ModeKeys.TRAIN:\n",
    "        optimizer = tf.train.AdamOptimizer(learning_rate=1e-2)\n",
    "        \n",
    "        train_op = optimizer.minimize(\n",
    "                    loss=cost,\n",
    "                    global_step=tf.train.get_global_step())\n",
    "        #my_rmse_list += [cost.eval]\n",
    "        return tf.estimator.EstimatorSpec(mode=mode, loss=cost, train_op=train_op)\n",
    "    \n",
    "    eval_metric_ops = {\n",
    "        \"error\":tf.metrics.mean_squared_error(\n",
    "        labels=labels, predictions=predictions[\"output\"])\n",
    "    }\n",
    "    return tf.estimator.EstimatorSpec(mode=mode, loss=cost, eval_metric_ops=eval_metric_ops)"
   ]
  },
  {
   "cell_type": "code",
   "execution_count": 70,
   "metadata": {},
   "outputs": [
    {
     "name": "stdout",
     "output_type": "stream",
     "text": [
      "INFO:tensorflow:Using default config.\n",
      "INFO:tensorflow:Using config: {'_model_dir': './sav', '_tf_random_seed': None, '_save_summary_steps': 100, '_save_checkpoints_steps': None, '_save_checkpoints_secs': 600, '_session_config': None, '_keep_checkpoint_max': 5, '_keep_checkpoint_every_n_hours': 10000, '_log_step_count_steps': 100, '_service': None, '_cluster_spec': <tensorflow.python.training.server_lib.ClusterSpec object at 0x7ffa5b43cbe0>, '_task_type': 'worker', '_task_id': 0, '_master': '', '_is_chief': True, '_num_ps_replicas': 0, '_num_worker_replicas': 1}\n"
     ]
    }
   ],
   "source": [
    "my_nn_esti = tf.estimator.Estimator(model_fn=nn_model_fn, model_dir=\"./sav\")\n",
    "\n",
    "tensors_to_log = {\"RMSE\": \"output\"}\n",
    "rmse_list = tf.train.LoggingTensorHook(\n",
    "    tensors=tensors_to_log, every_n_iter=100)"
   ]
  },
  {
   "cell_type": "code",
   "execution_count": 71,
   "metadata": {},
   "outputs": [
    {
     "name": "stdout",
     "output_type": "stream",
     "text": [
      "INFO:tensorflow:Create CheckpointSaverHook.\n",
      "INFO:tensorflow:Restoring parameters from ./sav/model.ckpt-26010\n",
      "INFO:tensorflow:Saving checkpoints for 26011 into ./sav/model.ckpt.\n",
      "INFO:tensorflow:loss = 0.1390894910483121, step = 26011\n",
      "INFO:tensorflow:global_step/sec: 497.228\n",
      "INFO:tensorflow:loss = 0.047273734989341606, step = 26111 (0.208 sec)\n",
      "INFO:tensorflow:global_step/sec: 468.204\n",
      "INFO:tensorflow:loss = 0.0354991219766615, step = 26211 (0.216 sec)\n",
      "INFO:tensorflow:global_step/sec: 406.597\n",
      "INFO:tensorflow:loss = 0.03864107985568689, step = 26311 (0.244 sec)\n",
      "INFO:tensorflow:global_step/sec: 492.253\n",
      "INFO:tensorflow:loss = 0.10624254941605757, step = 26411 (0.204 sec)\n",
      "INFO:tensorflow:global_step/sec: 489.293\n",
      "INFO:tensorflow:loss = 0.0510398218393486, step = 26511 (0.204 sec)\n",
      "INFO:tensorflow:global_step/sec: 489.471\n",
      "INFO:tensorflow:loss = 0.031078293385511848, step = 26611 (0.204 sec)\n",
      "INFO:tensorflow:global_step/sec: 478.048\n",
      "INFO:tensorflow:loss = 0.044179311438411445, step = 26711 (0.208 sec)\n",
      "INFO:tensorflow:global_step/sec: 355.985\n",
      "INFO:tensorflow:loss = 0.03402984014880972, step = 26811 (0.283 sec)\n",
      "INFO:tensorflow:global_step/sec: 479.114\n",
      "INFO:tensorflow:loss = 0.16243889957772975, step = 26911 (0.210 sec)\n",
      "INFO:tensorflow:Saving checkpoints for 27010 into ./sav/model.ckpt.\n",
      "INFO:tensorflow:Loss for final step: 0.05230144586075699.\n"
     ]
    },
    {
     "data": {
      "text/plain": [
       "<tensorflow.python.estimator.estimator.Estimator at 0x7ffa5b43c9b0>"
      ]
     },
     "execution_count": 71,
     "metadata": {},
     "output_type": "execute_result"
    }
   ],
   "source": [
    "train_input_fn = tf.estimator.inputs.numpy_input_fn(\n",
    "                    #x={\"in1\" : X_a[:,0], \"in2\":X_a[:,1], \"in3\":X_a[:,2]},\n",
    "                    x={\"x\":X_a},\n",
    "                    y=y_a,\n",
    "                    batch_size=100,\n",
    "                    num_epochs=None,\n",
    "                    shuffle=True)\n",
    "my_nn_esti.train(\n",
    "                input_fn=train_input_fn,\n",
    "                steps=1000)\n"
   ]
  },
  {
   "cell_type": "code",
   "execution_count": 73,
   "metadata": {},
   "outputs": [
    {
     "name": "stdout",
     "output_type": "stream",
     "text": [
      "[<tf.Tensor 'Sqrt:0' shape=() dtype=float64>, <tf.Tensor 'Sqrt:0' shape=() dtype=float64>, <bound method Tensor.eval of <tf.Tensor 'Sqrt:0' shape=() dtype=float64>>]\n"
     ]
    }
   ],
   "source": [
    "print (my_rmse_list)"
   ]
  },
  {
   "cell_type": "code",
   "execution_count": null,
   "metadata": {},
   "outputs": [],
   "source": []
  },
  {
   "cell_type": "code",
   "execution_count": null,
   "metadata": {},
   "outputs": [],
   "source": []
  }
 ],
 "metadata": {
  "kernelspec": {
   "display_name": "Python 3",
   "language": "python",
   "name": "python3"
  },
  "language_info": {
   "codemirror_mode": {
    "name": "ipython",
    "version": 3
   },
   "file_extension": ".py",
   "mimetype": "text/x-python",
   "name": "python",
   "nbconvert_exporter": "python",
   "pygments_lexer": "ipython3",
   "version": "3.6.3"
  }
 },
 "nbformat": 4,
 "nbformat_minor": 2
}
